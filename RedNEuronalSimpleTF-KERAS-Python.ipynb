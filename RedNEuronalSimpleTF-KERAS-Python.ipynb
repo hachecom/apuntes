{
  "nbformat": 4,
  "nbformat_minor": 0,
  "metadata": {
    "colab": {
      "name": "Copia de Untitled0.ipynb",
      "provenance": [],
      "authorship_tag": "ABX9TyMx7J6Jab5Q41mr3OhYjLvH",
      "include_colab_link": true
    },
    "kernelspec": {
      "name": "python3",
      "display_name": "Python 3"
    },
    "language_info": {
      "name": "python"
    }
  },
  "cells": [
    {
      "cell_type": "markdown",
      "metadata": {
        "id": "view-in-github",
        "colab_type": "text"
      },
      "source": [
        "<a href=\"https://colab.research.google.com/github/hachecom/apuntes/blob/master/Copia_de_Untitled0.ipynb\" target=\"_parent\"><img src=\"https://colab.research.google.com/assets/colab-badge.svg\" alt=\"Open In Colab\"/></a>"
      ]
    },
    {
      "cell_type": "code",
      "execution_count": 1,
      "metadata": {
        "id": "sXHbiNEeEShk"
      },
      "outputs": [],
      "source": [
        "import tensorflow as tf\n",
        "import numpy as np\n"
      ]
    },
    {
      "cell_type": "code",
      "source": [
        "celsius = np.array([-40, 10, 0, 8, 15, 22, 38], dtype=float)\n",
        "fahrenheit = np.array([-40, 14, 32, 46, 59, 72, 100], dtype=float)"
      ],
      "metadata": {
        "id": "f3GVNgLRGM8N"
      },
      "execution_count": 2,
      "outputs": []
    },
    {
      "cell_type": "code",
      "source": [
        "#capasalida = tf.keras.layers.Dense(units=1, input_shape= [1])\n",
        "#modelo = tf.keras.Sequential([capasalida])"
      ],
      "metadata": {
        "id": "grpQKtHxGc2x"
      },
      "execution_count": 3,
      "outputs": []
    },
    {
      "cell_type": "code",
      "source": [
        "#agreguemos dos capas ocultas con tres neuronas cada una\n",
        "oculta1 = tf.keras.layers.Dense(units=3, input_shape=[1])\n",
        "oculta2 = tf.keras.layers.Dense(units=3)\n",
        "salida = tf.keras.layers.Dense(units=1)\n",
        "modelo = tf.keras.Sequential([oculta1, oculta2, salida])\n"
      ],
      "metadata": {
        "id": "t7xNUPi1w_Jj"
      },
      "execution_count": 10,
      "outputs": []
    },
    {
      "cell_type": "code",
      "source": [
        "modelo.compile(\n",
        "    optimizer=tf.keras.optimizers.Adam(0.1),\n",
        "    loss='mean_squared_error'\n",
        ")"
      ],
      "metadata": {
        "id": "qRSBgdamJwN5"
      },
      "execution_count": 11,
      "outputs": []
    },
    {
      "cell_type": "code",
      "metadata": {
        "colab": {
          "base_uri": "https://localhost:8080/"
        },
        "id": "4D-NuUTnbabR",
        "outputId": "dc50432d-5bd5-42dd-ffa9-a9cc6c507171"
      },
      "source": [
        "print(\"Comenzando entrenamiento...\")\n",
        "historial = modelo.fit(celsius, fahrenheit, epochs=1000, verbose=False)\n",
        "print(\"Modelo entrenado!\")"
      ],
      "execution_count": 12,
      "outputs": [
        {
          "output_type": "stream",
          "name": "stdout",
          "text": [
            "Comenzando entrenamiento...\n",
            "Modelo entrenado!\n"
          ]
        }
      ]
    },
    {
      "cell_type": "code",
      "source": [
        "import matplotlib.pyplot as plt\n",
        "plt.xlabel(\"epocas (n)\")\n",
        "plt.ylabel(\"magnitud de pérdida\")\n",
        "plt.plot(historial.history[\"loss\"])"
      ],
      "metadata": {
        "colab": {
          "base_uri": "https://localhost:8080/",
          "height": 296
        },
        "id": "y376g45FObhH",
        "outputId": "f6e8794e-dd68-4984-a39e-ef76335e4535"
      },
      "execution_count": 13,
      "outputs": [
        {
          "output_type": "execute_result",
          "data": {
            "text/plain": [
              "[<matplotlib.lines.Line2D at 0x7f2fd7c745d0>]"
            ]
          },
          "metadata": {},
          "execution_count": 13
        },
        {
          "output_type": "display_data",
          "data": {
            "text/plain": [
              "<Figure size 432x288 with 1 Axes>"
            ],
            "image/png": "[encoded data removed]"
          },
          "metadata": {
            "needs_background": "light"
          }
        }
      ]
    },
    {
      "cell_type": "code",
      "source": [
        "print (\"Hagamos una predicciòn\")\n",
        "resultado = modelo.predict([100.00])\n",
        "print (\"el resultado es\" + str(resultado) + \" ºF\")"
      ],
      "metadata": {
        "colab": {
          "base_uri": "https://localhost:8080/"
        },
        "id": "6BeAAXC1vIfL",
        "outputId": "47188b23-1357-4d98-c4ae-205cb80ed2f4"
      },
      "execution_count": 14,
      "outputs": [
        {
          "output_type": "stream",
          "name": "stdout",
          "text": [
            "Hagamos una predicciòn\n",
            "el resultado es[[204.32874]] ºF\n"
          ]
        }
      ]
    },
    {
      "cell_type": "code",
      "source": [
        "print(\"variables internas del modelo\")\n",
        "print(oculta1.get_weights())\n",
        "print(oculta2.get_weights())\n",
        "print(salida.get_weights())"
      ],
      "metadata": {
        "colab": {
          "base_uri": "https://localhost:8080/"
        },
        "id": "ZoX2yx3ZzKuq",
        "outputId": "c10488d4-cef3-49b3-fee5-3af1b385619c"
      },
      "execution_count": 15,
      "outputs": [
        {
          "output_type": "stream",
          "name": "stdout",
          "text": [
            "variables internas del modelo\n",
            "[array([[0.07028762, 0.4248528 , 0.8173068 ]], dtype=float32), array([3.0079627, 4.654793 , 4.750144 ], dtype=float32)]\n",
            "[array([[ 0.99393636, -0.18889253,  0.17744839],\n",
            "       [ 0.6039405 , -0.5083644 ,  1.2132208 ],\n",
            "       [ 0.28205684, -1.475038  ,  0.02710957]], dtype=float32), array([ 4.086255 , -4.6486344,  3.1344821], dtype=float32)]\n",
            "[array([[ 0.55188733],\n",
            "       [-0.79856926],\n",
            "       [ 0.58188355]], dtype=float32), array([3.6599512], dtype=float32)]\n"
          ]
        }
      ]
    }
  ]
}
